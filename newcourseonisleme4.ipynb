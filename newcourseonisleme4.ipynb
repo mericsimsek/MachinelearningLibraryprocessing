{
 "cells": [
  {
   "cell_type": "code",
   "execution_count": 4,
   "id": "4ac698e9",
   "metadata": {},
   "outputs": [
    {
     "data": {
      "text/plain": [
       "survived      0\n",
       "pclass        0\n",
       "age         177\n",
       "sibsp         0\n",
       "parch         0\n",
       "fare          0\n",
       "dtype: int64"
      ]
     },
     "execution_count": 4,
     "metadata": {},
     "output_type": "execute_result"
    }
   ],
   "source": [
    "import seaborn as sns\n",
    "import missingno as msno\n",
    "df = sns.load_dataset(\"titanic\")\n",
    "df=df.select_dtypes(include = [\"float64\",\"int64\"])\n",
    "df.head()\n",
    "df.isnull().sum()"
   ]
  },
  {
   "cell_type": "code",
   "execution_count": null,
   "id": "1aa824fb",
   "metadata": {},
   "outputs": [],
   "source": [
    "!pip install ycimpute"
   ]
  },
  {
   "cell_type": "markdown",
   "id": "9c426683",
   "metadata": {},
   "source": [
    "from ycimpute.imputer import knnimput"
   ]
  },
  {
   "cell_type": "code",
   "execution_count": null,
   "id": "e44177b5",
   "metadata": {},
   "outputs": [],
   "source": [
    "from ycimpute.imputer import knnimput"
   ]
  },
  {
   "cell_type": "code",
   "execution_count": null,
   "id": "840b1724",
   "metadata": {},
   "outputs": [],
   "source": [
    "varname=list(df)\n",
    "import numpy as np \n",
    "npdf=np.array(df)\n",
    "npdf.head()"
   ]
  },
  {
   "cell_type": "code",
   "execution_count": null,
   "id": "7d12cbe3",
   "metadata": {},
   "outputs": [],
   "source": [
    "import numpy as np\n",
    "import pandas as pd\n",
    "V1=np.array([1,3,6,np.NaN,12,32,24,np.NaN,3])\n",
    "V2=np.array([3,4,2,12,np.NaN,12,2,24,np.NaN])\n",
    "V3=np.array([4,1,12,2,42,3,21,np.NaN,1])\n",
    "df=pd.DataFrame({\"V1\":V1,\"V2\":V2,\"V3\":V3}) #unutma böyle bir işlemi yani liste halinde yazmayı (\"v1\":V1i ) süslü parantezle yaparsın\n",
    "df"
   ]
  },
  {
   "cell_type": "code",
   "execution_count": null,
   "id": "bbbe4f50",
   "metadata": {},
   "outputs": [],
   "source": []
  }
 ],
 "metadata": {
  "kernelspec": {
   "display_name": "Python 3 (ipykernel)",
   "language": "python",
   "name": "python3"
  },
  "language_info": {
   "codemirror_mode": {
    "name": "ipython",
    "version": 3
   },
   "file_extension": ".py",
   "mimetype": "text/x-python",
   "name": "python",
   "nbconvert_exporter": "python",
   "pygments_lexer": "ipython3",
   "version": "3.11.4"
  }
 },
 "nbformat": 4,
 "nbformat_minor": 5
}
