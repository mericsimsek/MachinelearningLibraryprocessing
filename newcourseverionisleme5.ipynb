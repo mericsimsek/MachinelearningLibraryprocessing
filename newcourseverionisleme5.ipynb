{
 "cells": [
  {
   "cell_type": "code",
   "execution_count": 3,
   "id": "cbcbfd29",
   "metadata": {},
   "outputs": [
    {
     "data": {
      "text/html": [
       "<div>\n",
       "<style scoped>\n",
       "    .dataframe tbody tr th:only-of-type {\n",
       "        vertical-align: middle;\n",
       "    }\n",
       "\n",
       "    .dataframe tbody tr th {\n",
       "        vertical-align: top;\n",
       "    }\n",
       "\n",
       "    .dataframe thead th {\n",
       "        text-align: right;\n",
       "    }\n",
       "</style>\n",
       "<table border=\"1\" class=\"dataframe\">\n",
       "  <thead>\n",
       "    <tr style=\"text-align: right;\">\n",
       "      <th></th>\n",
       "      <th>V1</th>\n",
       "      <th>V2</th>\n",
       "      <th>V3</th>\n",
       "    </tr>\n",
       "  </thead>\n",
       "  <tbody>\n",
       "    <tr>\n",
       "      <th>0</th>\n",
       "      <td>1.0</td>\n",
       "      <td>3.0</td>\n",
       "      <td>4.0</td>\n",
       "    </tr>\n",
       "    <tr>\n",
       "      <th>1</th>\n",
       "      <td>3.0</td>\n",
       "      <td>4.0</td>\n",
       "      <td>1.0</td>\n",
       "    </tr>\n",
       "    <tr>\n",
       "      <th>2</th>\n",
       "      <td>12.0</td>\n",
       "      <td>2.0</td>\n",
       "      <td>12.0</td>\n",
       "    </tr>\n",
       "    <tr>\n",
       "      <th>3</th>\n",
       "      <td>32.0</td>\n",
       "      <td>12.0</td>\n",
       "      <td>2.0</td>\n",
       "    </tr>\n",
       "    <tr>\n",
       "      <th>4</th>\n",
       "      <td>24.0</td>\n",
       "      <td>2.0</td>\n",
       "      <td>42.0</td>\n",
       "    </tr>\n",
       "    <tr>\n",
       "      <th>5</th>\n",
       "      <td>3.0</td>\n",
       "      <td>24.0</td>\n",
       "      <td>3.0</td>\n",
       "    </tr>\n",
       "  </tbody>\n",
       "</table>\n",
       "</div>"
      ],
      "text/plain": [
       "     V1    V2    V3\n",
       "0   1.0   3.0   4.0\n",
       "1   3.0   4.0   1.0\n",
       "2  12.0   2.0  12.0\n",
       "3  32.0  12.0   2.0\n",
       "4  24.0   2.0  42.0\n",
       "5   3.0  24.0   3.0"
      ]
     },
     "execution_count": 3,
     "metadata": {},
     "output_type": "execute_result"
    }
   ],
   "source": [
    "import numpy as np\n",
    "import pandas as pd\n",
    "V1=np.array([1,3,12,32,24,3])\n",
    "V2=np.array([3,4,2,12,2,24])\n",
    "V3=np.array([4,1,12,2,42,3])\n",
    "df=pd.DataFrame({\"V1\":V1,\"V2\":V2,\"V3\":V3}) #unutma böyle bir işlemi yani liste halinde yazmayı (\"v1\":V1i ) süslü parantezle yaparsın\n",
    "df=df.astype(float) #ondalıklıya çevirme işlemi  12.0   normalde 12 dir\n",
    "df"
   ]
  },
  {
   "cell_type": "code",
   "execution_count": 4,
   "id": "12773d5d",
   "metadata": {},
   "outputs": [],
   "source": [
    " #değişkenin yapısı bozulmaz ama belli standartlara oturtturulur  yani bi 10 değeri 80.sırada olsun \n",
    "    #bu standartlaştırıldığında 2 3 gibi bir sıraya girmiş olur  1 2 3 gibi değer oluacak  ama özütü aynı olur yayılımı dağılım aynı\n",
    "    # mod medyan falan değişir   ,  değişken dönüşümü ise  direkt özütünün kaybedilmesi cinsiyet dönüşümü 0 1 den yapı dğeişir\n"
   ]
  },
  {
   "cell_type": "code",
   "execution_count": 5,
   "id": "29dbd75f",
   "metadata": {},
   "outputs": [],
   "source": [
    "from sklearn import preprocessing "
   ]
  },
  {
   "cell_type": "code",
   "execution_count": 6,
   "id": "7c37de37",
   "metadata": {},
   "outputs": [
    {
     "data": {
      "text/plain": [
       "array([[-0.98042624, -0.60351217, -0.46089801],\n",
       "       [-0.80991733, -0.47864758, -0.66830212],\n",
       "       [-0.04262723, -0.72837676,  0.0921796 ],\n",
       "       [ 1.66246189,  0.52026911, -0.59916742],\n",
       "       [ 0.98042624, -0.72837676,  2.16622066],\n",
       "       [-0.80991733,  2.01864415, -0.53003271]])"
      ]
     },
     "execution_count": 6,
     "metadata": {},
     "output_type": "execute_result"
    }
   ],
   "source": [
    "preprocessing.scale(df)  #tüm değişkenleri standartlaştırmış oldu  tüm hepsi aynı oranda değiştiği için birbirleri arasındaki\n",
    "#yapı değişmedi  bu Standardizasyon islemidir"
   ]
  },
  {
   "cell_type": "code",
   "execution_count": 7,
   "id": "e43fe675",
   "metadata": {},
   "outputs": [
    {
     "data": {
      "text/plain": [
       "array([[0.19611614, 0.58834841, 0.78446454],\n",
       "       [0.58834841, 0.78446454, 0.19611614],\n",
       "       [0.70224688, 0.11704115, 0.70224688],\n",
       "       [0.93472998, 0.35052374, 0.05842062],\n",
       "       [0.49571543, 0.04130962, 0.867502  ],\n",
       "       [0.12309149, 0.98473193, 0.12309149]])"
      ]
     },
     "execution_count": 7,
     "metadata": {},
     "output_type": "execute_result"
    }
   ],
   "source": [
    "#şimdi normalizasyon işlemine geçeceğiz 0 ile 1 arasına dönüştürmek için kullanılır\n",
    "preprocessing.normalize(df) "
   ]
  },
  {
   "cell_type": "code",
   "execution_count": 9,
   "id": "251f9ac0",
   "metadata": {},
   "outputs": [
    {
     "data": {
      "text/plain": [
       "array([[10.        , 10.45454545, 10.73170732],\n",
       "       [10.64516129, 10.90909091, 10.        ],\n",
       "       [13.5483871 , 10.        , 12.68292683],\n",
       "       [20.        , 14.54545455, 10.24390244],\n",
       "       [17.41935484, 10.        , 20.        ],\n",
       "       [10.64516129, 20.        , 10.48780488]])"
      ]
     },
     "execution_count": 9,
     "metadata": {},
     "output_type": "execute_result"
    }
   ],
   "source": [
    "#bu da istedğimiz değerler arasında dönüştürmeye yarar min max yani \n",
    "sclr=preprocessing.MinMaxScaler(feature_range=(10,20)) #dönüştürücü nesnesi oluşturdurk\n",
    "sclr.fit_transform(df)"
   ]
  },
  {
   "cell_type": "code",
   "execution_count": null,
   "id": "5534681c",
   "metadata": {},
   "outputs": [],
   "source": []
  }
 ],
 "metadata": {
  "kernelspec": {
   "display_name": "Python 3 (ipykernel)",
   "language": "python",
   "name": "python3"
  },
  "language_info": {
   "codemirror_mode": {
    "name": "ipython",
    "version": 3
   },
   "file_extension": ".py",
   "mimetype": "text/x-python",
   "name": "python",
   "nbconvert_exporter": "python",
   "pygments_lexer": "ipython3",
   "version": "3.11.4"
  }
 },
 "nbformat": 4,
 "nbformat_minor": 5
}
